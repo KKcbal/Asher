{
 "cells": [
  {
   "cell_type": "code",
   "execution_count": null,
   "metadata": {},
   "outputs": [],
   "source": [
    "public class Level {\n",
    "    /** Returns true if the player reached the goal on this level and returns false otherwise */\n",
    "    public boolean goalReached() {\n",
    "        /* implementation not shown */\n",
    "    }\n",
    "\n",
    "    /** Returns the number of points (a positive integer) recorded for this level */\n",
    "    public int getPoints() {\n",
    "        /* implementation not shown */\n",
    "    }\n",
    "    \n",
    "    // there may be instance variables, constructors, and methods that are not shown.\n",
    "}"
   ]
  },
  {
   "cell_type": "code",
   "execution_count": null,
   "metadata": {},
   "outputs": [],
   "source": [
    "public class Game {\n",
    "    private Level levelOne;\n",
    "    private Level levelTwo;\n",
    "    private Level levelThree;\n",
    "\n",
    "    /** Postcondition: All instance variables have been initialized */\n",
    "    public Game() {\n",
    "        /* implementation not shown */\n",
    "    }\n",
    "\n",
    "    /** Returns true if this game is a bonus game and returns false otherwise */\n",
    "    public boolean isBonus() {\n",
    "        /* implementation not shown */\n",
    "    }\n",
    "\n",
    "    /** simulates the plat of this game (consisting of three levels) and updates all relevent game data */\n",
    "    public void play() {\n",
    "        /* implementation not shown */\n",
    "    }\n",
    "\n",
    "    /** Returns the score earned in the most recently played game, as described in part (a) */\n",
    "    public int getScore() {\n",
    "        int score = 0;\n",
    "        if (goalReached(levelOne) == true) {\n",
    "            score = getPoints(levelOne) + score;\n",
    "        }\n",
    "        if (goalReached(levelOne) == true && goalReached(levelTwo) == true) {\n",
    "            score = getPoints(levelTwo) + score;\n",
    "        }\n",
    "        if (goalReached(levelOne) == true && goalReached(levelTwo) == true && goalReached(levelThree) == true) {\n",
    "            score = getPoints(levelThree) + score;\n",
    "        }\n",
    "        if (isBonus() == true) {\n",
    "            score = score * 3;\n",
    "        }\n",
    "        return score;\n",
    "    }\n",
    "    /** Simulates the play of the nunm games and returns the highest score eanred, as described in part (b)\n",
    "     * Precondition: num > 0\n",
    "     */\n",
    "    public int playManyTimes(int num){\n",
    "        int i = 0;\n",
    "        scroes = 0;\n",
    "        while (i < num) {\n",
    "            play();\n",
    "            if (getScore() > scroes) {\n",
    "                scroes = getScore();\n",
    "            }\n",
    "            i++;\n",
    "        }\n",
    "        return scroes;\n",
    "    }\n",
    "\n",
    "    // There may be instance variables, constructors, and methods that are not shown.\n",
    "}"
   ]
  },
  {
   "cell_type": "markdown",
   "metadata": {},
   "source": [
    "levelone points = levelone  \n",
    "leveltwo points = levelone leveltwo  \n",
    "levelthree points = levelone leveltwo levelthree  \n",
    "score = levelone.points + leveltwo.points + levelthree.points  \n",
    "if bonusgame == true: score = score * 3  "
   ]
  }
 ],
 "metadata": {
  "kernelspec": {
   "display_name": "Java",
   "language": "java",
   "name": "java"
  },
  "language_info": {
   "codemirror_mode": "java",
   "file_extension": ".jshell",
   "mimetype": "text/x-java-source",
   "name": "java",
   "pygments_lexer": "java",
   "version": "11.0.20+8-post-Ubuntu-1ubuntu122.04"
  },
  "orig_nbformat": 4
 },
 "nbformat": 4,
 "nbformat_minor": 2
}
