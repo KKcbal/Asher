{
 "cells": [
  {
   "cell_type": "markdown",
   "metadata": {},
   "source": [
    "---\n",
    "title: For and While Loop Notes\n",
    "comments: true\n",
    "layout: default\n",
    "description: Notes I took on for loops and while loops for the lesson we making\n",
    "courses: { csa: {week: 7} }\n",
    "type: hacks\n",
    "---"
   ]
  },
  {
   "cell_type": "markdown",
   "metadata": {},
   "source": [
    "# while loop\n",
    "\n",
    "## loop control variable"
   ]
  },
  {
   "cell_type": "code",
   "execution_count": 1,
   "metadata": {
    "vscode": {
     "languageId": "java"
    }
   },
   "outputs": [
    {
     "name": "stdout",
     "output_type": "stream",
     "text": [
      "Doing some code\n",
      "Doing some code\n",
      "Doing some code\n",
      "Doing some code\n",
      "Doing some code\n",
      "Doing some code\n",
      "Doing some code\n",
      "Doing some code\n",
      "Doing some code\n",
      "Doing some code\n"
     ]
    }
   ],
   "source": [
    "public static void main(String[] args) {\n",
    "    int i = 0; // initialize loop control variable\n",
    "    while (i < 10)  // checks the loop control variable\n",
    "    {\n",
    "        System.out.println(\"Doing some code\");\n",
    "        i++;  // update the loop control variable\n",
    "    }\n",
    "}\n",
    "main(null)"
   ]
  },
  {
   "cell_type": "markdown",
   "metadata": {},
   "source": [
    "## Infinite loop  \n",
    "an infinite loop is when a while loop always evaluates to true. avoid this when you can because it's probably not good for your computer. if this happens by accident, i reccomend copying all code in the block and deleting the block."
   ]
  },
  {
   "cell_type": "code",
   "execution_count": 25,
   "metadata": {
    "vscode": {
     "languageId": "java"
    }
   },
   "outputs": [],
   "source": [
    "public static void main(String[] args) {\n",
    "    while (true)\n",
    "    {\n",
    "        System.out.print(\"CONTROL \");\n",
    "    }\n",
    "}\n",
    "// DO NOT RUN THE CODE"
   ]
  },
  {
   "cell_type": "markdown",
   "metadata": {},
   "source": [
    "## Do While loop  \n",
    "Even if the condition is false, the code will run at least once"
   ]
  },
  {
   "cell_type": "code",
   "execution_count": 33,
   "metadata": {
    "vscode": {
     "languageId": "java"
    }
   },
   "outputs": [
    {
     "name": "stdout",
     "output_type": "stream",
     "text": [
      "Quite shrimple. "
     ]
    }
   ],
   "source": [
    "// Quite shrimple\n",
    "public static void main(String[] args) {\n",
    "    int i = 0;\n",
    "    do \n",
    "    {\n",
    "        System.out.print(\"Quite shrimple. \");\n",
    "        i++;\n",
    "    }\n",
    "    while (i < -5);\n",
    "}\n",
    "main(null)"
   ]
  },
  {
   "cell_type": "markdown",
   "metadata": {},
   "source": [
    "In a do while loop, it will run the \"do\" once before it reaches the \"while\", and at that point it will start to act like a while loop. "
   ]
  },
  {
   "cell_type": "markdown",
   "metadata": {},
   "source": [
    "# for loop\n",
    "this is the standard structure of a for loop"
   ]
  },
  {
   "cell_type": "code",
   "execution_count": null,
   "metadata": {
    "vscode": {
     "languageId": "java"
    }
   },
   "outputs": [],
   "source": [
    "public static void main(String[] args) {\n",
    "    for (initialization; Boolean expression; update)\n",
    "    {\n",
    "        System.out.println(\"Doing some code\");\n",
    "    }\n",
    "}"
   ]
  },
  {
   "cell_type": "markdown",
   "metadata": {},
   "source": [
    "initialization will run at the start of the loop, boolean expression will get checked with every loop, and update runs after every loop.  \n",
    "Example:"
   ]
  },
  {
   "cell_type": "code",
   "execution_count": null,
   "metadata": {
    "vscode": {
     "languageId": "java"
    }
   },
   "outputs": [],
   "source": [
    "public static void main(String[] args) {\n",
    "    for (int num = 1; num <= 5; num++)\n",
    "    {\n",
    "        System.out.println(\"Doing some code\");\n",
    "    }\n",
    "}"
   ]
  },
  {
   "cell_type": "markdown",
   "metadata": {},
   "source": [
    "In this code, it creates the variable *num* at the start of the loop, it checks if *num* is less than or equal to 5 after each loop, and it adds 1 to *num* after each loop."
   ]
  },
  {
   "cell_type": "markdown",
   "metadata": {},
   "source": [
    "## Enhanced for loop  \n",
    "this is essentially a javascript for loop, as it will iterate through a list and run code in the loop to each variable inside the list"
   ]
  },
  {
   "cell_type": "code",
   "execution_count": 22,
   "metadata": {
    "vscode": {
     "languageId": "java"
    }
   },
   "outputs": [
    {
     "name": "stdout",
     "output_type": "stream",
     "text": [
      "2 1 5 3 8 "
     ]
    }
   ],
   "source": [
    "public static void main(String[] args) {\n",
    "    ArrayList<Integer> list = new ArrayList<Integer>();\n",
    "    list.add(2);\n",
    "    list.add(1);\n",
    "    list.add(5);\n",
    "    list.add(3);\n",
    "    list.add(8);\n",
    "    for (int j : list)\n",
    "    {\n",
    "        System.out.print(j);\n",
    "        System.out.print(\" \");\n",
    "    }\n",
    "}\n",
    "main(null)"
   ]
  },
  {
   "cell_type": "markdown",
   "metadata": {},
   "source": [
    "## Break and Continue\n",
    "In java there are breaks, but there are also continues. "
   ]
  },
  {
   "cell_type": "markdown",
   "metadata": {},
   "source": [
    "### Break  \n",
    "Breaks, as you likely already know, end a loop. They tend to be used with an *if* statement"
   ]
  },
  {
   "cell_type": "code",
   "execution_count": 35,
   "metadata": {
    "vscode": {
     "languageId": "java"
    }
   },
   "outputs": [
    {
     "name": "stdout",
     "output_type": "stream",
     "text": [
      "Big guy\n",
      "Big guy\n",
      "Big guy\n",
      "Big guy\n",
      "Big guy\n"
     ]
    }
   ],
   "source": [
    "public static void main(String[] args) {\n",
    "    int i = 0; \n",
    "    while (i < 10) \n",
    "    {\n",
    "        System.out.println(\"Big guy\");\n",
    "        i++;  \n",
    "        if (i == 5) {\n",
    "            break;\n",
    "        }\n",
    "    }\n",
    "}\n",
    "main(null)"
   ]
  },
  {
   "cell_type": "markdown",
   "metadata": {},
   "source": [
    "### Continue  \n",
    "Continue will skip code for an iteration, but will still keep the loop running"
   ]
  },
  {
   "cell_type": "code",
   "execution_count": null,
   "metadata": {
    "vscode": {
     "languageId": "java"
    }
   },
   "outputs": [],
   "source": [
    "public static void main(String[] args) {\n",
    "    int i = 0; \n",
    "    while (i < 10) \n",
    "    {\n",
    "        if (i == 5) {\n",
    "            i++\n",
    "            continue;\n",
    "        }\n",
    "        System.out.println(i);\n",
    "        i++;  \n",
    "    }\n",
    "}\n",
    "main(null)"
   ]
  }
 ],
 "metadata": {
  "kernelspec": {
   "display_name": "Java",
   "language": "java",
   "name": "java"
  },
  "language_info": {
   "codemirror_mode": "java",
   "file_extension": ".jshell",
   "mimetype": "text/x-java-source",
   "name": "Java",
   "pygments_lexer": "java",
   "version": "11.0.20+8-post-Ubuntu-1ubuntu122.04"
  },
  "orig_nbformat": 4
 },
 "nbformat": 4,
 "nbformat_minor": 2
}
